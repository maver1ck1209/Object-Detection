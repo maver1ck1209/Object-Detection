{
 "cells": [
  {
   "cell_type": "code",
   "execution_count": 55,
   "id": "017a10c0",
   "metadata": {},
   "outputs": [],
   "source": [
    "import pandas as pd\n",
    "import glob\n",
    "import os\n",
    "import json\n",
    "import pandas as pd\n",
    "\n",
    "def xml_to_yolo_bbox(bbox, w, h):\n",
    "    # xmin, ymin, xmax, ymax\n",
    "    x_center = ((bbox[2] + bbox[0]) / 2) / w\n",
    "    y_center = ((bbox[3] + bbox[1]) / 2) / h\n",
    "    width = (bbox[2] - bbox[0]) / w\n",
    "    height = (bbox[3] - bbox[1]) / h\n",
    "    return [x_center, y_center, width, height]\n",
    "\n",
    "classes = []\n",
    "output_dir = \"labels_test2\"\n",
    "image_dir = \"test\"\n",
    "os.mkdir(output_dir)\n",
    "\n",
    "data = pd.read_csv(r'C:\\Users\\VyshakB\\Desktop\\fasterrcn\\models-master\\models\\research\\object_detection\\images\\train_labels.csv')\n",
    "df=data\n",
    "gb=df.groupby('filename')\n",
    "\n",
    "result = []\n",
    "c=0\n",
    "for i in df['filename'].unique():\n",
    "    h=gb.get_group(i)\n",
    "    filename1 = i\n",
    "    for j in range(len(h)):\n",
    "        label = h['class'].values[j]\n",
    "        if label not in classes or not classes:\n",
    "            classes.append(label)\n",
    "        index = classes.index(label)\n",
    "        pil_bbox=[h['xmin'].values[j],h['ymin'].values[j],h['xmax'].values[j],h['ymax'].values[j]]\n",
    "        width = h['width'].values[j]\n",
    "        height = h['height'].values[j]\n",
    "        yolo_bbox = xml_to_yolo_bbox(pil_bbox, width, height)\n",
    "        bbox_string = \" \".join([str(x) for x in yolo_bbox])\n",
    "        result.append(f\"{index} {bbox_string}\")\n",
    "    if result:\n",
    "        with open(os.path.join(output_dir, f\"{filename1.split('.')[0]}.txt\"), \"w\", encoding=\"utf-8\") as f:\n",
    "            f.write(\"\\n\".join(result))\n",
    "    result = []\n",
    "with open('classes.txt', 'w', encoding='utf8') as f:\n",
    "    f.write(json.dumps(classes))"
   ]
  }
 ],
 "metadata": {
  "kernelspec": {
   "display_name": "Python 3 (ipykernel)",
   "language": "python",
   "name": "python3"
  },
  "language_info": {
   "codemirror_mode": {
    "name": "ipython",
    "version": 3
   },
   "file_extension": ".py",
   "mimetype": "text/x-python",
   "name": "python",
   "nbconvert_exporter": "python",
   "pygments_lexer": "ipython3",
   "version": "3.7.0"
  }
 },
 "nbformat": 4,
 "nbformat_minor": 5
}
