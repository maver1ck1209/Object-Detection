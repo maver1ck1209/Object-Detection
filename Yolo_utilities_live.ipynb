{
 "cells": [
  {
   "cell_type": "code",
   "execution_count": 3,
   "id": "d0c81c0d",
   "metadata": {},
   "outputs": [],
   "source": [
    "cv2.destroyAllWindows()\n"
   ]
  },
  {
   "cell_type": "code",
   "execution_count": null,
   "id": "5cdca225",
   "metadata": {},
   "outputs": [],
   "source": []
  },
  {
   "cell_type": "markdown",
   "id": "d79fafd8",
   "metadata": {},
   "source": [
    "### main_code"
   ]
  },
  {
   "cell_type": "code",
   "execution_count": 19,
   "id": "be74d57a",
   "metadata": {},
   "outputs": [
    {
     "name": "stderr",
     "output_type": "stream",
     "text": [
      "Using cache found in C:\\Users\\maver/.cache\\torch\\hub\\ultralytics_yolov5_master\n",
      "\u001b[31m\u001b[1mrequirements:\u001b[0m scipy>=1.4.1 not found and is required by YOLOv5, attempting auto-update...\n",
      "Collecting scipy>=1.4.1\n",
      "  Downloading scipy-1.9.3-cp38-cp38-win_amd64.whl (39.8 MB)\n",
      "     -------------------------------------- 39.8/39.8 MB 866.6 kB/s eta 0:00:00\n",
      "Requirement already satisfied: numpy<1.26.0,>=1.18.5 in c:\\users\\maver\\anaconda3\\envs\\yolo\\lib\\site-packages (from scipy>=1.4.1) (1.24.1)\n",
      "Installing collected packages: scipy\n",
      "Successfully installed scipy-1.9.3\n",
      "\n",
      "\u001b[31m\u001b[1mrequirements:\u001b[0m protobuf<4.21.3 not found and is required by YOLOv5, attempting auto-update...\n",
      "Collecting protobuf<4.21.3\n",
      "  Downloading protobuf-4.21.2-cp38-cp38-win_amd64.whl (524 kB)\n",
      "     -------------------------------------- 524.9/524.9 kB 1.7 MB/s eta 0:00:00\n",
      "Installing collected packages: protobuf\n",
      "Successfully installed protobuf-4.21.2\n",
      "\n",
      "\u001b[31m\u001b[1mrequirements:\u001b[0m 2 packages updated per C:\\Users\\maver\\.cache\\torch\\hub\\ultralytics_yolov5_master\\requirements.txt\n",
      "\u001b[31m\u001b[1mrequirements:\u001b[0m  \u001b[1mRestart runtime or rerun command for updates to take effect\u001b[0m\n",
      "\n",
      "YOLOv5  2022-7-26 Python-3.8.15 torch-1.13.1+cu117 CUDA:0 (NVIDIA GeForce GTX 1650 Ti, 4096MiB)\n",
      "\n",
      "Fusing layers... \n",
      "Model summary: 213 layers, 7034398 parameters, 0 gradients\n",
      "Adding AutoShape... \n"
     ]
    }
   ],
   "source": [
    "import torch\n",
    "import cv2\n",
    "import numpy as np\n",
    "import pyautogui as pg\n",
    "\n",
    "model = torch.hub.load(\"ultralytics/yolov5\", 'custom', path=\"best.pt\")\n",
    "# model.names=[\"water inlets\", \"BOC\", \"pole\", \"manhole\", \"vault\", \"PED\", \"fire hydrant\", \"culvert\", \"EOP\", \"speed limit\", \"pole_mid\", \"pole_top\"]\n",
    "\n",
    "while True:\n",
    "    img = np.array(pg.screenshot())\n",
    "    \n",
    "    \n",
    "    results = model(img)\n",
    "    results.render()\n",
    "    result=cv2.cvtColor(results.imgs[0],cv2.COLOR_BGR2RGB)\n",
    "    result=cv2.resize(result,(1400,800))\n",
    "    \n",
    "    cv2.imshow('Detections_cuda',result)\n",
    "    if cv2.waitKey(25) & 0xFF == ord('q'):\n",
    "        cv2.destroyAllWindows()\n",
    "        break"
   ]
  },
  {
   "cell_type": "code",
   "execution_count": null,
   "id": "eb6eaa4b",
   "metadata": {},
   "outputs": [
    {
     "name": "stderr",
     "output_type": "stream",
     "text": [
      "Using cache found in C:\\Users\\maver/.cache\\torch\\hub\\ultralytics_yolov5_master\n",
      "YOLOv5  2022-7-26 Python-3.8.15 torch-1.13.1+cu117 CUDA:0 (NVIDIA GeForce GTX 1650 Ti, 4096MiB)\n",
      "\n",
      "Fusing layers... \n",
      "Model summary: 213 layers, 7034398 parameters, 0 gradients\n",
      "Adding AutoShape... \n"
     ]
    }
   ],
   "source": [
    "import torch\n",
    "import cv2\n",
    "import numpy as np\n",
    "import pyautogui as pg\n",
    "from PIL import ImageGrab\n",
    "from win32 import win32gui\n",
    "\n",
    "hwnd = win32gui.FindWindow(None, r'4400 I-70BL - Google Maps - Opera')\n",
    "# win32gui.SetForegroundWindow(hwnd)\n",
    "dimensions = win32gui.GetWindowRect(hwnd)\n",
    "model = torch.hub.load(\"ultralytics/yolov5\", 'custom', path=\"best.pt\")\n",
    "\n",
    "while True:\n",
    "    img = np.array(ImageGrab.grab(dimensions))\n",
    "    \n",
    "    \n",
    "    results = model(img)\n",
    "    results.render()\n",
    "    result=cv2.cvtColor(results.imgs[0],cv2.COLOR_BGR2RGB)\n",
    "    result=cv2.resize(result,(1024,885))\n",
    "    \n",
    "    cv2.imshow('Detections_cuda',result)\n",
    "    if cv2.waitKey(25) & 0xFF == ord('q'):\n",
    "        cv2.destroyAllWindows()\n",
    "        break"
   ]
  },
  {
   "cell_type": "code",
   "execution_count": 27,
   "id": "68bc6342",
   "metadata": {},
   "outputs": [
    {
     "name": "stdout",
     "output_type": "stream",
     "text": [
      "Requirement already satisfied: pywin32 in c:\\users\\maver\\anaconda3\\envs\\yolo\\lib\\site-packages (305)\n"
     ]
    }
   ],
   "source": [
    "!pip install pywin32\n",
    "\n"
   ]
  },
  {
   "cell_type": "code",
   "execution_count": 20,
   "id": "d937498d",
   "metadata": {},
   "outputs": [],
   "source": [
    "cv2.imshow('img',results.imgs[0])\n",
    "cv2.waitKey(0)\n",
    "cv2.destroyAllWindows()"
   ]
  },
  {
   "cell_type": "code",
   "execution_count": 45,
   "id": "de01ff6d",
   "metadata": {},
   "outputs": [
    {
     "data": {
      "text/plain": [
       "array([[218, 221, 226],\n",
       "       [218, 221, 226],\n",
       "       [218, 221, 226],\n",
       "       ...,\n",
       "       [211, 219, 230],\n",
       "       [211, 219, 230],\n",
       "       [211, 219, 230]], dtype=uint8)"
      ]
     },
     "execution_count": 45,
     "metadata": {},
     "output_type": "execute_result"
    }
   ],
   "source": [
    "results.imgs[0][0]"
   ]
  },
  {
   "cell_type": "code",
   "execution_count": 90,
   "id": "76859c82",
   "metadata": {},
   "outputs": [
    {
     "data": {
      "text/plain": [
       "1080"
      ]
     },
     "execution_count": 90,
     "metadata": {},
     "output_type": "execute_result"
    }
   ],
   "source": [
    "pg.size().height"
   ]
  },
  {
   "cell_type": "code",
   "execution_count": 1,
   "id": "a8673680",
   "metadata": {},
   "outputs": [
    {
     "data": {
      "text/plain": [
       "['',\n",
       " 'Yolo_utilities_live - Jupyter Notebook - Google Chrome',\n",
       " '4400 I-70BL - Google Maps - Opera',\n",
       " '',\n",
       " 'C:\\\\Windows\\\\System32\\\\cmd.exe - jupyter  notebook',\n",
       " 'Obstacle detection yolo',\n",
       " 'bae',\n",
       " '',\n",
       " '',\n",
       " '',\n",
       " 'Netflix',\n",
       " '#general | Random Chat - Discord',\n",
       " 'Settings',\n",
       " 'Settings',\n",
       " '',\n",
       " 'Form1',\n",
       " 'NVIDIA GeForce Overlay',\n",
       " 'Windows Input Experience',\n",
       " 'PDSTYLEAGENT',\n",
       " '',\n",
       " '',\n",
       " '',\n",
       " '',\n",
       " '',\n",
       " '',\n",
       " '',\n",
       " 'General (CSE4088_D1_L23+24) | Microsoft Teams',\n",
       " 'module6_1-time_domain_analysis.pdf - Personal - Microsoft\\u200b Edge',\n",
       " '',\n",
       " '',\n",
       " 'Program Manager']"
      ]
     },
     "execution_count": 1,
     "metadata": {},
     "output_type": "execute_result"
    }
   ],
   "source": [
    "import pygetwindow\n",
    "pygetwindow.getAllTitles()"
   ]
  },
  {
   "cell_type": "code",
   "execution_count": 24,
   "id": "f1fa6541",
   "metadata": {},
   "outputs": [
    {
     "data": {
      "text/plain": [
       "Win32Window(hWnd=790280)"
      ]
     },
     "execution_count": 24,
     "metadata": {},
     "output_type": "execute_result"
    }
   ],
   "source": [
    "pygetwindow.getWindowsWithTitle('407 S M.L.K. Blvd - Google Maps - Opera')[0]"
   ]
  },
  {
   "cell_type": "code",
   "execution_count": 4,
   "id": "31035b86",
   "metadata": {},
   "outputs": [],
   "source": [
    "from PIL import ImageGrab\n",
    "from win32 import win32gui\n",
    "\n",
    "hwnd = win32gui.FindWindow(None, r'407 S M.L.K. Blvd - Google Maps - Opera')\n",
    "# win32gui.SetForegroundWindow(hwnd)\n",
    "dimensions = win32gui.GetWindowRect(hwnd)\n",
    "\n",
    "img = ImageGrab.grab(dimensions)\n"
   ]
  },
  {
   "cell_type": "code",
   "execution_count": 6,
   "id": "a25950f1",
   "metadata": {},
   "outputs": [
    {
     "data": {
      "text/plain": [
       "(44, 22, 1024, 885)"
      ]
     },
     "execution_count": 6,
     "metadata": {},
     "output_type": "execute_result"
    }
   ],
   "source": [
    "dimensions"
   ]
  },
  {
   "cell_type": "code",
   "execution_count": null,
   "id": "ec5907d0",
   "metadata": {},
   "outputs": [],
   "source": []
  }
 ],
 "metadata": {
  "kernelspec": {
   "display_name": "Python 3 (ipykernel)",
   "language": "python",
   "name": "python3"
  },
  "language_info": {
   "codemirror_mode": {
    "name": "ipython",
    "version": 3
   },
   "file_extension": ".py",
   "mimetype": "text/x-python",
   "name": "python",
   "nbconvert_exporter": "python",
   "pygments_lexer": "ipython3",
   "version": "3.8.15"
  }
 },
 "nbformat": 4,
 "nbformat_minor": 5
}
